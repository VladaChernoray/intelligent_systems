{
 "cells": [
  {
   "cell_type": "code",
   "execution_count": 6,
   "id": "6912573d",
   "metadata": {},
   "outputs": [
    {
     "name": "stdout",
     "output_type": "stream",
     "text": [
      "Please provide your Kaggle credentials to download this dataset. Learn more: http://bit.ly/kaggle-creds\n",
      "Your Kaggle username: vladyslavachernorai\n",
      "Your Kaggle Key: ········\n",
      "Downloading jio-mart-product-items.zip to .\\dataset\\jio-mart-product-items\n"
     ]
    },
    {
     "name": "stderr",
     "output_type": "stream",
     "text": [
      "100%|█████████████████████████████████████████████████████████████████████████████| 2.31M/2.31M [00:00<00:00, 4.29MB/s]\n"
     ]
    },
    {
     "name": "stdout",
     "output_type": "stream",
     "text": [
      "\n"
     ]
    }
   ],
   "source": [
    "import os\n",
    "import opendatasets as od\n",
    "\n",
    "KAGGLE_URL = 'https://www.kaggle.com/datasets/mohit2512/jio-mart-product-items'\n",
    "DATASET_PATH = '.\\dataset'\n",
    "\n",
    "def fetch_dataset(url = KAGGLE_URL, path = DATASET_PATH):\n",
    "    if not os.path.isdir(path):\n",
    "        os.makedirs(path)\n",
    "    od.download(url, path)\n",
    "\n",
    "fetch_dataset()"
   ]
  },
  {
   "cell_type": "code",
   "execution_count": 11,
   "id": "646322ee",
   "metadata": {},
   "outputs": [
    {
     "name": "stdout",
     "output_type": "stream",
     "text": [
      "Requirement already satisfied: opendatasets in c:\\users\\vlada\\anaconda3\\envs\\first\\lib\\site-packages (0.1.22)\n",
      "Requirement already satisfied: click in c:\\users\\vlada\\anaconda3\\envs\\first\\lib\\site-packages (from opendatasets) (8.1.3)\n",
      "Requirement already satisfied: tqdm in c:\\users\\vlada\\anaconda3\\envs\\first\\lib\\site-packages (from opendatasets) (4.65.0)\n",
      "Requirement already satisfied: kaggle in c:\\users\\vlada\\anaconda3\\envs\\first\\lib\\site-packages (from opendatasets) (1.5.13)\n",
      "Requirement already satisfied: colorama in c:\\users\\vlada\\anaconda3\\envs\\first\\lib\\site-packages (from click->opendatasets) (0.4.6)\n",
      "Requirement already satisfied: importlib-metadata in c:\\users\\vlada\\anaconda3\\envs\\first\\lib\\site-packages (from click->opendatasets) (4.11.3)\n",
      "Requirement already satisfied: python-dateutil in c:\\users\\vlada\\anaconda3\\envs\\first\\lib\\site-packages (from kaggle->opendatasets) (2.8.2)\n",
      "Requirement already satisfied: urllib3 in c:\\users\\vlada\\anaconda3\\envs\\first\\lib\\site-packages (from kaggle->opendatasets) (1.26.14)\n",
      "Requirement already satisfied: six>=1.10 in c:\\users\\vlada\\anaconda3\\envs\\first\\lib\\site-packages (from kaggle->opendatasets) (1.16.0)\n",
      "Requirement already satisfied: requests in c:\\users\\vlada\\anaconda3\\envs\\first\\lib\\site-packages (from kaggle->opendatasets) (2.28.2)\n",
      "Requirement already satisfied: python-slugify in c:\\users\\vlada\\anaconda3\\envs\\first\\lib\\site-packages (from kaggle->opendatasets) (8.0.1)\n",
      "Requirement already satisfied: certifi in c:\\users\\vlada\\anaconda3\\envs\\first\\lib\\site-packages (from kaggle->opendatasets) (2022.12.7)\n",
      "Requirement already satisfied: typing-extensions>=3.6.4 in c:\\users\\vlada\\anaconda3\\envs\\first\\lib\\site-packages (from importlib-metadata->click->opendatasets) (4.4.0)\n",
      "Requirement already satisfied: zipp>=0.5 in c:\\users\\vlada\\anaconda3\\envs\\first\\lib\\site-packages (from importlib-metadata->click->opendatasets) (3.11.0)\n",
      "Requirement already satisfied: text-unidecode>=1.3 in c:\\users\\vlada\\anaconda3\\envs\\first\\lib\\site-packages (from python-slugify->kaggle->opendatasets) (1.3)\n",
      "Requirement already satisfied: charset-normalizer<4,>=2 in c:\\users\\vlada\\anaconda3\\envs\\first\\lib\\site-packages (from requests->kaggle->opendatasets) (3.1.0)\n",
      "Requirement already satisfied: idna<4,>=2.5 in c:\\users\\vlada\\anaconda3\\envs\\first\\lib\\site-packages (from requests->kaggle->opendatasets) (3.4)\n"
     ]
    }
   ],
   "source": [
    "!pip install opendatasets"
   ]
  },
  {
   "cell_type": "code",
   "execution_count": 14,
   "id": "0a3c9384",
   "metadata": {},
   "outputs": [
    {
     "name": "stdout",
     "output_type": "stream",
     "text": [
      "Collecting gensim\n",
      "  Downloading gensim-4.2.0-cp37-cp37m-win_amd64.whl (24.0 MB)\n",
      "     ---------------------------------------- 24.0/24.0 MB 2.9 MB/s eta 0:00:00\n",
      "Requirement already satisfied: scipy>=0.18.1 in c:\\users\\vlada\\anaconda3\\envs\\first\\lib\\site-packages (from gensim) (1.7.3)\n",
      "Collecting Cython==0.29.28\n",
      "  Downloading Cython-0.29.28-py2.py3-none-any.whl (983 kB)\n",
      "     -------------------------------------- 983.8/983.8 kB 1.8 MB/s eta 0:00:00\n",
      "Requirement already satisfied: numpy>=1.17.0 in c:\\users\\vlada\\anaconda3\\envs\\first\\lib\\site-packages (from gensim) (1.21.6)\n",
      "Collecting smart-open>=1.8.1\n",
      "  Downloading smart_open-6.3.0-py3-none-any.whl (56 kB)\n",
      "     -------------------------------------- 56.8/56.8 kB 750.3 kB/s eta 0:00:00\n",
      "Installing collected packages: smart-open, Cython, gensim\n",
      "Successfully installed Cython-0.29.28 gensim-4.2.0 smart-open-6.3.0\n"
     ]
    }
   ],
   "source": [
    "!pip install gensim"
   ]
  },
  {
   "cell_type": "code",
   "execution_count": 15,
   "id": "530f6bec",
   "metadata": {},
   "outputs": [
    {
     "data": {
      "text/html": [
       "<div>\n",
       "<style scoped>\n",
       "    .dataframe tbody tr th:only-of-type {\n",
       "        vertical-align: middle;\n",
       "    }\n",
       "\n",
       "    .dataframe tbody tr th {\n",
       "        vertical-align: top;\n",
       "    }\n",
       "\n",
       "    .dataframe thead th {\n",
       "        text-align: right;\n",
       "    }\n",
       "</style>\n",
       "<table border=\"1\" class=\"dataframe\">\n",
       "  <thead>\n",
       "    <tr style=\"text-align: right;\">\n",
       "      <th></th>\n",
       "      <th>category</th>\n",
       "      <th>sub_category</th>\n",
       "      <th>href</th>\n",
       "      <th>items</th>\n",
       "      <th>price</th>\n",
       "    </tr>\n",
       "  </thead>\n",
       "  <tbody>\n",
       "    <tr>\n",
       "      <th>0</th>\n",
       "      <td>Groceries</td>\n",
       "      <td>Fruits &amp; Vegetables</td>\n",
       "      <td>https://www.jiomart.com/c/groceries/fruits-veg...</td>\n",
       "      <td>Fresh Dates (Pack) (Approx 450 g - 500 g)</td>\n",
       "      <td>109.0</td>\n",
       "    </tr>\n",
       "    <tr>\n",
       "      <th>1</th>\n",
       "      <td>Groceries</td>\n",
       "      <td>Fruits &amp; Vegetables</td>\n",
       "      <td>https://www.jiomart.com/c/groceries/fruits-veg...</td>\n",
       "      <td>Tender Coconut Cling Wrapped (1 pc) (Approx 90...</td>\n",
       "      <td>49.0</td>\n",
       "    </tr>\n",
       "    <tr>\n",
       "      <th>2</th>\n",
       "      <td>Groceries</td>\n",
       "      <td>Fruits &amp; Vegetables</td>\n",
       "      <td>https://www.jiomart.com/c/groceries/fruits-veg...</td>\n",
       "      <td>Mosambi 1 kg</td>\n",
       "      <td>69.0</td>\n",
       "    </tr>\n",
       "    <tr>\n",
       "      <th>3</th>\n",
       "      <td>Groceries</td>\n",
       "      <td>Fruits &amp; Vegetables</td>\n",
       "      <td>https://www.jiomart.com/c/groceries/fruits-veg...</td>\n",
       "      <td>Orange Imported 1 kg</td>\n",
       "      <td>125.0</td>\n",
       "    </tr>\n",
       "    <tr>\n",
       "      <th>4</th>\n",
       "      <td>Groceries</td>\n",
       "      <td>Fruits &amp; Vegetables</td>\n",
       "      <td>https://www.jiomart.com/c/groceries/fruits-veg...</td>\n",
       "      <td>Banana Robusta 6 pcs (Box) (Approx 800 g - 110...</td>\n",
       "      <td>44.0</td>\n",
       "    </tr>\n",
       "    <tr>\n",
       "      <th>5</th>\n",
       "      <td>Groceries</td>\n",
       "      <td>Fruits &amp; Vegetables</td>\n",
       "      <td>https://www.jiomart.com/c/groceries/fruits-veg...</td>\n",
       "      <td>Custard Apple 4 pcs (Approx 750 g - 1000 g)</td>\n",
       "      <td>179.0</td>\n",
       "    </tr>\n",
       "    <tr>\n",
       "      <th>6</th>\n",
       "      <td>Groceries</td>\n",
       "      <td>Fruits &amp; Vegetables</td>\n",
       "      <td>https://www.jiomart.com/c/groceries/fruits-veg...</td>\n",
       "      <td>Pineapple Queen 1 pc (Approx 700 g - 1200 g)</td>\n",
       "      <td>84.0</td>\n",
       "    </tr>\n",
       "    <tr>\n",
       "      <th>7</th>\n",
       "      <td>Groceries</td>\n",
       "      <td>Fruits &amp; Vegetables</td>\n",
       "      <td>https://www.jiomart.com/c/groceries/fruits-veg...</td>\n",
       "      <td>Dates Imported (Approx 400 g - 500 g)</td>\n",
       "      <td>175.0</td>\n",
       "    </tr>\n",
       "    <tr>\n",
       "      <th>8</th>\n",
       "      <td>Groceries</td>\n",
       "      <td>Fruits &amp; Vegetables</td>\n",
       "      <td>https://www.jiomart.com/c/groceries/fruits-veg...</td>\n",
       "      <td>Watermelon Kiran Big 1 pc (Approx. 2800 g - 40...</td>\n",
       "      <td>45.0</td>\n",
       "    </tr>\n",
       "    <tr>\n",
       "      <th>9</th>\n",
       "      <td>Groceries</td>\n",
       "      <td>Fruits &amp; Vegetables</td>\n",
       "      <td>https://www.jiomart.com/c/groceries/fruits-veg...</td>\n",
       "      <td>Pear Green Indian 6 pcs (Approx 700 g - 1000 g)</td>\n",
       "      <td>189.0</td>\n",
       "    </tr>\n",
       "  </tbody>\n",
       "</table>\n",
       "</div>"
      ],
      "text/plain": [
       "    category         sub_category  \\\n",
       "0  Groceries  Fruits & Vegetables   \n",
       "1  Groceries  Fruits & Vegetables   \n",
       "2  Groceries  Fruits & Vegetables   \n",
       "3  Groceries  Fruits & Vegetables   \n",
       "4  Groceries  Fruits & Vegetables   \n",
       "5  Groceries  Fruits & Vegetables   \n",
       "6  Groceries  Fruits & Vegetables   \n",
       "7  Groceries  Fruits & Vegetables   \n",
       "8  Groceries  Fruits & Vegetables   \n",
       "9  Groceries  Fruits & Vegetables   \n",
       "\n",
       "                                                href  \\\n",
       "0  https://www.jiomart.com/c/groceries/fruits-veg...   \n",
       "1  https://www.jiomart.com/c/groceries/fruits-veg...   \n",
       "2  https://www.jiomart.com/c/groceries/fruits-veg...   \n",
       "3  https://www.jiomart.com/c/groceries/fruits-veg...   \n",
       "4  https://www.jiomart.com/c/groceries/fruits-veg...   \n",
       "5  https://www.jiomart.com/c/groceries/fruits-veg...   \n",
       "6  https://www.jiomart.com/c/groceries/fruits-veg...   \n",
       "7  https://www.jiomart.com/c/groceries/fruits-veg...   \n",
       "8  https://www.jiomart.com/c/groceries/fruits-veg...   \n",
       "9  https://www.jiomart.com/c/groceries/fruits-veg...   \n",
       "\n",
       "                                               items  price  \n",
       "0          Fresh Dates (Pack) (Approx 450 g - 500 g)  109.0  \n",
       "1  Tender Coconut Cling Wrapped (1 pc) (Approx 90...   49.0  \n",
       "2                                       Mosambi 1 kg   69.0  \n",
       "3                               Orange Imported 1 kg  125.0  \n",
       "4  Banana Robusta 6 pcs (Box) (Approx 800 g - 110...   44.0  \n",
       "5        Custard Apple 4 pcs (Approx 750 g - 1000 g)  179.0  \n",
       "6       Pineapple Queen 1 pc (Approx 700 g - 1200 g)   84.0  \n",
       "7              Dates Imported (Approx 400 g - 500 g)  175.0  \n",
       "8  Watermelon Kiran Big 1 pc (Approx. 2800 g - 40...   45.0  \n",
       "9    Pear Green Indian 6 pcs (Approx 700 g - 1000 g)  189.0  "
      ]
     },
     "execution_count": 15,
     "metadata": {},
     "output_type": "execute_result"
    }
   ],
   "source": [
    "import pandas as pd\n",
    "from sklearn.model_selection import train_test_split\n",
    "\n",
    "DATASET_PATH = \"dataset/jio-mart-product-items/jio_mart_items.csv\"\n",
    "mart_items = pd.read_csv(DATASET_PATH)\n",
    "\n",
    "# train_set, test_set = train_test_split(mart_items, test_size=0.2, random_state=42)\n",
    "mart_items.head(10)"
   ]
  },
  {
   "cell_type": "code",
   "execution_count": 16,
   "id": "df166af9",
   "metadata": {},
   "outputs": [],
   "source": [
    "from sklearn.feature_extraction.text import TfidfVectorizer\n",
    "from gensim.models import Word2Vec\n",
    "\n",
    "mart_items_processed = mart_items.dropna(subset=[\"items\"])\n",
    "\n",
    "# vectorizer = TfidfVectorizer()\n",
    "# items_encoded = vectorizer.fit_transform(mart_items_processed['items']).toarray()\n",
    "items = mart_items_processed['items'].values.copy()\n",
    "items_processed = []\n",
    "for i in range(len(items)):\n",
    "  items_processed.append(items[i].split())"
   ]
  },
  {
   "cell_type": "code",
   "execution_count": 17,
   "id": "b3df2977",
   "metadata": {},
   "outputs": [],
   "source": [
    "from sklearn.preprocessing import OrdinalEncoder\n",
    "\n",
    "ordinal_encoder = OrdinalEncoder()\n",
    "\n",
    "category_encoded = ordinal_encoder.fit_transform(mart_items_processed[['category']])\n",
    "sub_category_encoded = ordinal_encoder.fit_transform(mart_items_processed[['sub_category']])\n"
   ]
  },
  {
   "cell_type": "code",
   "execution_count": 18,
   "id": "e80443a6",
   "metadata": {},
   "outputs": [],
   "source": [
    "import numpy as np\n",
    "\n",
    "price_values = mart_items_processed['price'].values\n",
    "price_values = np.reshape(price_values, (len(price_values), 1))"
   ]
  },
  {
   "cell_type": "code",
   "execution_count": null,
   "id": "0adc33dc",
   "metadata": {},
   "outputs": [],
   "source": [
    "import gensim\n",
    "from gensim.models import Doc2Vec\n",
    "from gensim.models.doc2vec import TaggedDocument\n",
    "\n",
    "# Create TaggedDocuments from the tokenized data\n",
    "tagged_documents = [TaggedDocument(doc, [i]) for i, doc in enumerate(items_processed)]\n",
    "\n",
    "# Train a Doc2Vec model\n",
    "model = Doc2Vec(tagged_documents, vector_size=100, window=5, min_count=1, workers=4)"
   ]
  },
  {
   "cell_type": "code",
   "execution_count": null,
   "id": "44515e94",
   "metadata": {},
   "outputs": [],
   "source": [
    "# input = np.concatenate((category_encoded, sub_category_encoded, price_values), axis=0)\n",
    "# input = np.concatenate((input, items_encoded.toarray()), axis=0)\n",
    "\n",
    "items_encoded = model.dv.vectors.copy()\n",
    "num_rows, num_cols = items_encoded.shape\n",
    "input_features = np.empty((num_rows, num_cols + 2))\n",
    "for i in range(len(items_encoded)):\n",
    "  input_features[i] = np.append(items_encoded[i], [sub_category_encoded[i], category_encoded[i]])"
   ]
  },
  {
   "cell_type": "code",
   "execution_count": null,
   "id": "c2fc188f",
   "metadata": {},
   "outputs": [],
   "source": [
    "X_train, X_test, y_train, y_test = train_test_split(input_features, price_values, test_size=0.2, random_state=42)"
   ]
  },
  {
   "cell_type": "code",
   "execution_count": null,
   "id": "0081301d",
   "metadata": {},
   "outputs": [],
   "source": [
    "from sklearn.model_selection import GridSearchCV\n",
    "from sklearn.svm import SVR\n",
    "\n",
    "param_grid = [{'kernel': ['linear'], 'C': [10., 30., 100., 300., 1000., 3000., 10000., 30000.0]},\n",
    "              {'kernel': ['rbf'], 'C': [1.0, 3.0, 10., 30., 100., 300., 1000.0], 'gamma': [0.01, 0.03, 0.1, 0.3, 1.0, 3.0]}]\n",
    "\n",
    "svm_reg = SVR()\n",
    "grid_search = GridSearchCV(svm_reg, param_grid, cv=5, scoring='neg_mean_squared_error', verbose=2)\n",
    "grid_search.fit(X_train, y_train)"
   ]
  },
  {
   "cell_type": "code",
   "execution_count": null,
   "id": "501ba553",
   "metadata": {},
   "outputs": [],
   "source": [
    "!pip install scikit-learn"
   ]
  },
  {
   "cell_type": "code",
   "execution_count": null,
   "id": "f0ed5fd6",
   "metadata": {},
   "outputs": [],
   "source": [
    "from sklearn.pipeline import Pipeline\n",
    "from sklearn.preprocessing import StandardScaler\n",
    "\n",
    "num_pipeline = Pipeline([\n",
    "        ('imputer', SimpleImputer(strategy=\"median\")),\n",
    "        ('attribs_adder', CombinedAttributesAdder()),\n",
    "        ('std_scaler', StandardScaler()),\n",
    "    ])\n",
    "\n",
    "housing_num_tr = num_pipeline.fit_transform(housing_num)"
   ]
  },
  {
   "cell_type": "code",
   "execution_count": null,
   "id": "fd7a8e0f",
   "metadata": {},
   "outputs": [],
   "source": [
    "from sklearn.compose import ColumnTransformer\n",
    "\n",
    "num_attribs = list(housing_num)\n",
    "cat_attribs = [\"ocean_proximity\"]\n",
    "\n",
    "full_pipeline = ColumnTransformer([\n",
    "        (\"num\", num_pipeline, num_attribs),\n",
    "        (\"cat\", OneHotEncoder(), cat_attribs),\n",
    "    ])\n",
    "\n",
    "housing_prepared = full_pipeline.fit_transform(housing)"
   ]
  },
  {
   "cell_type": "code",
   "execution_count": null,
   "id": "0cf91def",
   "metadata": {},
   "outputs": [],
   "source": [
    "from sklearn.model_selection import GridSearchCV\n",
    "from sklearn.svm import SVR\n",
    "\n",
    "param_grid = [{'kernel': ['linear'], 'C': [10., 30., 100., 300., 1000., 3000., 10000., 30000.0]},\n",
    "              {'kernel': ['rbf'], 'C': [1.0, 3.0, 10., 30., 100., 300., 1000.0], 'gamma': [0.01, 0.03, 0.1, 0.3, 1.0, 3.0]}]\n",
    "\n",
    "svm_reg = SVR()\n",
    "grid_search = GridSearchCV(svm_reg, param_grid, cv=5, scoring='neg_mean_squared_error', verbose=2)\n",
    "grid_search.fit(housing_prepared, housing_labels)"
   ]
  },
  {
   "cell_type": "code",
   "execution_count": null,
   "id": "5b570e1f",
   "metadata": {},
   "outputs": [],
   "source": []
  }
 ],
 "metadata": {
  "kernelspec": {
   "display_name": "Python 3 (ipykernel)",
   "language": "python",
   "name": "python3"
  },
  "language_info": {
   "codemirror_mode": {
    "name": "ipython",
    "version": 3
   },
   "file_extension": ".py",
   "mimetype": "text/x-python",
   "name": "python",
   "nbconvert_exporter": "python",
   "pygments_lexer": "ipython3",
   "version": "3.7.16"
  }
 },
 "nbformat": 4,
 "nbformat_minor": 5
}
