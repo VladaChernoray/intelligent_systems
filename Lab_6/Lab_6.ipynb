{
 "cells": [
  {
   "cell_type": "code",
   "execution_count": null,
   "id": "f065fd2e",
   "metadata": {},
   "outputs": [],
   "source": [
    "from sklearn.datasets import fetch_openml\n",
    "from sklearn.model_selection import GridSearchCV, train_test_split\n",
    "from sklearn.neighbors import KNeighborsClassifier\n",
    "\n",
    "mnist = fetch_openml('mnist_784')\n",
    "\n",
    "X_train, X_test, y_train, y_test = train_test_split(mnist.data, mnist.target, test_size=0.2, random_state=42)\n",
    "\n",
    "knn = KNeighborsClassifier()\n",
    "\n",
    "param_grid = {'n_neighbors': [3, 5, 7], 'weights': ['uniform', 'distance']}\n",
    "grid_search = GridSearchCV(knn, param_grid, cv=5, verbose=3, n_jobs=-1)\n",
    "grid_search.fit(X_train, y_train)\n",
    "\n",
    "print(\"Accuracy: \", grid_search.score(X_test, y_test))\n",
    "print(\"Best hyperparameters: \", grid_search.best_params_)"
   ]
  },
  {
   "cell_type": "code",
   "execution_count": null,
   "id": "bbf4c1b7",
   "metadata": {},
   "outputs": [],
   "source": [
    "import numpy as np\n",
    "import matplotlib.pyplot as plt\n",
    "from scipy.ndimage import shift\n",
    "\n",
    "def shift_image(image: np.ndarray, dx: int, dy: int) -> np.ndarray:\n",
    "    image = image.reshape((28, 28))\n",
    "    shifted_image = shift(image, [dy, dx], cval=0)\n",
    "    return shifted_image.flatten()\n",
    "  \n",
    "def plot_image(image: np.ndarray, title: str, image_order: int) -> None:\n",
    "    plt.subplot(130 + image_order)\n",
    "    plt.title(title)\n",
    "    plt.imshow(image.reshape(28, 28), interpolation=\"nearest\", cmap=\"Greys\")\n",
    "\n",
    "\n",
    "plt.figure(figsize=(12, 3))\n",
    "\n",
    "image = X_train.values[125]\n",
    "plot_image(image, \"Original\", 1)\n",
    "\n",
    "shifted_image_left = shift_image(image, -5, 0)\n",
    "plot_image(shifted_image_left, \"Shifted left\", 2)\n",
    "\n",
    "shifted_image_up = shift_image(image, 0, -5)\n",
    "plot_image(shifted_image_up, \"Shifted up\", 3)\n",
    "\n",
    "\n",
    "plt.show()"
   ]
  },
  {
   "cell_type": "code",
   "execution_count": null,
   "id": "db1c5e0e",
   "metadata": {},
   "outputs": [],
   "source": [
    "X_train_augmented = [image for image in X_train.values]\n",
    "y_train_augmented = [label for label in y_train.values]\n",
    "\n",
    "for dx, dy in ((1, 0), (-1, 0), (0, 1), (0, -1)):\n",
    "    for image, label in zip(X_train.values, y_train.values):\n",
    "        X_train_augmented.append(shift_image(image, dx, dy))\n",
    "        y_train_augmented.append(label)"
   ]
  },
  {
   "cell_type": "code",
   "execution_count": null,
   "id": "a4d8bbfb",
   "metadata": {},
   "outputs": [],
   "source": [
    "knn_clf = KNeighborsClassifier(**grid_search.best_params_)\n",
    "knn_clf.fit(X_train_augmented, y_train_augmented)\n",
    "\n",
    "print(\"Accuracy: \", knn_clf.score(X_test, y_test))"
   ]
  }
 ],
 "metadata": {
  "kernelspec": {
   "display_name": "Python 3 (ipykernel)",
   "language": "python",
   "name": "python3"
  },
  "language_info": {
   "codemirror_mode": {
    "name": "ipython",
    "version": 3
   },
   "file_extension": ".py",
   "mimetype": "text/x-python",
   "name": "python",
   "nbconvert_exporter": "python",
   "pygments_lexer": "ipython3",
   "version": "3.7.16"
  }
 },
 "nbformat": 4,
 "nbformat_minor": 5
}
