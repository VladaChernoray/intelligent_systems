{
 "cells": [
  {
   "cell_type": "code",
   "execution_count": 1,
   "id": "f94e40fa",
   "metadata": {},
   "outputs": [
    {
     "name": "stdout",
     "output_type": "stream",
     "text": [
      "Please provide your Kaggle credentials to download this dataset. Learn more: http://bit.ly/kaggle-creds\n",
      "Your Kaggle username: vladyslavachernorai\n",
      "Your Kaggle Key: ········\n",
      "Downloading students-exam-scores.zip to .\\dataset\\students-exam-scores\n"
     ]
    },
    {
     "name": "stderr",
     "output_type": "stream",
     "text": [
      "100%|███████████████████████████████████████████████████████████████████████████████| 695k/695k [00:00<00:00, 4.99MB/s]"
     ]
    },
    {
     "name": "stdout",
     "output_type": "stream",
     "text": [
      "\n"
     ]
    },
    {
     "name": "stderr",
     "output_type": "stream",
     "text": [
      "\n"
     ]
    }
   ],
   "source": [
    "import os\n",
    "import opendatasets as od\n",
    "\n",
    "KAGGLE_URL = 'https://www.kaggle.com/datasets/desalegngeb/students-exam-scores'\n",
    "DATASET_PATH = '.\\dataset'\n",
    "\n",
    "def fetch_dataset(url = KAGGLE_URL, path = DATASET_PATH):\n",
    "    if not os.path.isdir(path):\n",
    "        os.makedirs(path)\n",
    "    od.download(url, path)\n",
    "\n",
    "fetch_dataset()"
   ]
  },
  {
   "cell_type": "markdown",
   "id": "440142fa",
   "metadata": {},
   "source": [
    "     Проаналізуйте розподіл за статтю серед учнів.\n",
    "     1. Скільки студентів і студенток у наборі даних?"
   ]
  },
  {
   "cell_type": "code",
   "execution_count": 9,
   "id": "186c30ed",
   "metadata": {},
   "outputs": [
    {
     "name": "stdout",
     "output_type": "stream",
     "text": [
      "<class 'pandas.core.frame.DataFrame'>\n",
      "RangeIndex: 30641 entries, 0 to 30640\n",
      "Data columns (total 15 columns):\n",
      " #   Column               Non-Null Count  Dtype  \n",
      "---  ------               --------------  -----  \n",
      " 0   Unnamed: 0           30641 non-null  int64  \n",
      " 1   Gender               30641 non-null  object \n",
      " 2   EthnicGroup          28801 non-null  object \n",
      " 3   ParentEduc           28796 non-null  object \n",
      " 4   LunchType            30641 non-null  object \n",
      " 5   TestPrep             28811 non-null  object \n",
      " 6   ParentMaritalStatus  29451 non-null  object \n",
      " 7   PracticeSport        30010 non-null  object \n",
      " 8   IsFirstChild         29737 non-null  object \n",
      " 9   NrSiblings           29069 non-null  float64\n",
      " 10  TransportMeans       27507 non-null  object \n",
      " 11  WklyStudyHours       29686 non-null  object \n",
      " 12  MathScore            30641 non-null  int64  \n",
      " 13  ReadingScore         30641 non-null  int64  \n",
      " 14  WritingScore         30641 non-null  int64  \n",
      "dtypes: float64(1), int64(4), object(10)\n",
      "memory usage: 3.5+ MB\n"
     ]
    }
   ],
   "source": [
    "import pandas as pd\n",
    "DATASET_PATH = \"dataset/students-exam-scores/Expanded_data_with_more_features.csv\"\n",
    "df = pd.read_csv(DATASET_PATH)\n",
    "df.info()"
   ]
  },
  {
   "cell_type": "code",
   "execution_count": 10,
   "id": "412bf4db",
   "metadata": {},
   "outputs": [
    {
     "name": "stdout",
     "output_type": "stream",
     "text": [
      "Number of male students:  15217\n",
      "Number of female students:  15424\n"
     ]
    }
   ],
   "source": [
    "male_count = df[df[\"Gender\"] == \"male\"][\"Gender\"].count()\n",
    "female_count = df[df[\"Gender\"] == \"female\"][\"Gender\"].count()\n",
    "\n",
    "print(\"Number of male students: \", male_count)\n",
    "print(\"Number of female students: \", female_count)"
   ]
  },
  {
   "cell_type": "markdown",
   "id": "aab51f1b",
   "metadata": {},
   "source": [
    " 2. Який відсоток студентів чоловічої статі в наборі даних?\n",
    " 3. Який відсоток студенток у наборі даних?"
   ]
  },
  {
   "cell_type": "code",
   "execution_count": 14,
   "id": "581dfd86",
   "metadata": {},
   "outputs": [
    {
     "name": "stdout",
     "output_type": "stream",
     "text": [
      "Percentage of female students:  50.337782709441605\n",
      "Percentage of male students:  49.6622172905584\n"
     ]
    }
   ],
   "source": [
    "female_count = df[df[\"Gender\"] == \"female\"][\"Gender\"].count()\n",
    "male_count = df[df[\"Gender\"] == \"male\"][\"Gender\"].count()\n",
    "total_count = df[\"Gender\"].count()\n",
    "\n",
    "female_percentage = (female_count / total_count) * 100\n",
    "male_percentage = (male_count / total_count) * 100\n",
    "\n",
    "print(\"Percentage of female students: \", female_percentage)\n",
    "print(\"Percentage of male students: \", male_percentage)"
   ]
  },
  {
   "cell_type": "markdown",
   "id": "703b1078",
   "metadata": {},
   "source": [
    " Дослідіть зв’язок між етнічною групою та результатами тестів.\n",
    "     4. Яка етнічна група має найвищий середній бал з математики?\n",
    "     5. Яка етнічна група має найвищий середній бал читання?\n",
    "     6. Яка етнічна група має найвищий середній бал з письма?"
   ]
  },
  {
   "cell_type": "code",
   "execution_count": 17,
   "id": "fe08c9b7",
   "metadata": {},
   "outputs": [
    {
     "name": "stdout",
     "output_type": "stream",
     "text": [
      "The ethnic group with the highest average math score is group E with an average math score of 75.29893590695373\n"
     ]
    }
   ],
   "source": [
    "grouped = df.groupby([\"EthnicGroup\"])[\"MathScore\"].mean()\n",
    "\n",
    "highest_math_score = grouped.max()\n",
    "highest_math_score_ethnicity = grouped.idxmax()\n",
    "\n",
    "print(\"The ethnic group with the highest average math score is\", highest_math_score_ethnicity, \"with an average math score of\", highest_math_score)"
   ]
  },
  {
   "cell_type": "code",
   "execution_count": 18,
   "id": "9b22567f",
   "metadata": {},
   "outputs": [
    {
     "name": "stdout",
     "output_type": "stream",
     "text": [
      "The ethnic group with the highest average reading score is group E with an average reading score of 74.25142291512002\n"
     ]
    }
   ],
   "source": [
    "grouped = df.groupby([\"EthnicGroup\"])[\"ReadingScore\"].mean()\n",
    "\n",
    "highest_reading_score = grouped.max()\n",
    "highest_reading_score_ethnicity = grouped.idxmax()\n",
    "\n",
    "print(\"The ethnic group with the highest average reading score is\", highest_reading_score_ethnicity, \"with an average reading score of\", highest_reading_score)"
   ]
  },
  {
   "cell_type": "code",
   "execution_count": 19,
   "id": "ac6e5a00",
   "metadata": {},
   "outputs": [
    {
     "name": "stdout",
     "output_type": "stream",
     "text": [
      "The ethnic group with the highest average writing score is group E with an average writing score of 72.67706013363029\n"
     ]
    }
   ],
   "source": [
    "grouped = df.groupby([\"EthnicGroup\"])[\"WritingScore\"].mean()\n",
    "\n",
    "highest_writing_score = grouped.max()\n",
    "highest_writing_score_ethnicity = grouped.idxmax()\n",
    "\n",
    "print(\"The ethnic group with the highest average writing score is\", highest_writing_score_ethnicity, \"with an average writing score of\", highest_writing_score)"
   ]
  },
  {
   "cell_type": "markdown",
   "id": "33a9f0e7",
   "metadata": {},
   "source": [
    "\n",
    "Дослідіть вплив курсу підготовки до тесту на результати тесту\n",
    "\n",
    "     7. Який середній бал з математики для студентів, які закінчили курс підготовки до тесту?\n",
    "     8. Який середній бал з читання для студентів, які пройшли курс підготовки до тесту?\n",
    "     9. Який середній бал для студентів, які закінчили курс підготовки до тесту?\n"
   ]
  },
  {
   "cell_type": "code",
   "execution_count": 21,
   "id": "2ff7f656",
   "metadata": {},
   "outputs": [
    {
     "name": "stdout",
     "output_type": "stream",
     "text": [
      "The average math score for students who completed the test preparation course is: 69.5466599698644\n",
      "The average reading score for students who completed the test preparation course is: 73.73299849321948\n",
      "The average score for students who completed the test preparation course is: 72.66097438473129\n"
     ]
    }
   ],
   "source": [
    "prep_course_df = df[df[\"TestPrep\"] == \"completed\"]\n",
    "\n",
    "avg_math_prep = prep_course_df[\"MathScore\"].mean()\n",
    "avg_reading_prep = prep_course_df[\"ReadingScore\"].mean()\n",
    "\n",
    "avg_total_prep = prep_course_df[[\"MathScore\", \"ReadingScore\", \"WritingScore\"]].mean().mean()\n",
    "\n",
    "print(\"The average math score for students who completed the test preparation course is:\", avg_math_prep)\n",
    "print(\"The average reading score for students who completed the test preparation course is:\", avg_reading_prep)\n",
    "print(\"The average score for students who completed the test preparation course is:\", avg_total_prep)\n"
   ]
  },
  {
   "cell_type": "markdown",
   "id": "e95f4739",
   "metadata": {},
   "source": [
    "Проаналізуйте розподіл батьків(ів) за сімейним станом серед учнів.\n",
    "\n",
    "     10. Скільки студентів мають одружених батьків?\n",
    "     11. Скільки студентів мають батьків-одинаків?\n"
   ]
  },
  {
   "cell_type": "code",
   "execution_count": 24,
   "id": "caaa6f6f",
   "metadata": {},
   "outputs": [
    {
     "name": "stdout",
     "output_type": "stream",
     "text": [
      "Number of students with married parents: 16844\n",
      "Number of students with single parents: 7097\n"
     ]
    }
   ],
   "source": [
    "married_count = len(df[df[\"ParentMaritalStatus\"] == \"married\"])\n",
    "single_count = len(df[df[\"ParentMaritalStatus\"] == \"single\"])\n",
    "\n",
    "print(\"Number of students with married parents:\", married_count)\n",
    "print(\"Number of students with single parents:\", single_count)"
   ]
  },
  {
   "cell_type": "markdown",
   "id": "a87bba95",
   "metadata": {},
   "source": [
    "  Дослідіть зв’язок між заняттями спортом і результатами тестів.\n",
    "  \n",
    "     12. Чи студенти, які регулярно займаються спортом, мають вищі середні результати з математики, ніж ті, хто ніколи не       займається спортом?\n",
    "     13. Чи студенти, які регулярно займаються спортом, мають вищі середні результати читання, ніж ті, хто ніколи не займається спортом?"
   ]
  },
  {
   "cell_type": "code",
   "execution_count": 27,
   "id": "232e1219",
   "metadata": {},
   "outputs": [
    {
     "name": "stdout",
     "output_type": "stream",
     "text": [
      "Average math score for students who regularly play sports: 67.83915500787548\n",
      "Average math score for students who never play sports: 64.17107892107892\n",
      "Average reading score for students who regularly play sports: 69.94301862318169\n",
      "Average reading score for students who never play sports: 68.33766233766234\n"
     ]
    }
   ],
   "source": [
    "regular_sports_math_avg = df[df[\"PracticeSport\"] == \"regularly\"][\"MathScore\"].mean()\n",
    "\n",
    "never_sports_math_avg = df[df[\"PracticeSport\"] == \"never\"][\"MathScore\"].mean()\n",
    "\n",
    "regular_sports_reading_avg = df[df[\"PracticeSport\"] == \"regularly\"][\"ReadingScore\"].mean()\n",
    "\n",
    "never_sports_reading_avg = df[df[\"PracticeSport\"] == \"never\"][\"ReadingScore\"].mean()\n",
    "\n",
    "print(\"Average math score for students who regularly play sports:\", regular_sports_math_avg)\n",
    "print(\"Average math score for students who never play sports:\", never_sports_math_avg)\n",
    "print(\"Average reading score for students who regularly play sports:\", regular_sports_reading_avg)\n",
    "print(\"Average reading score for students who never play sports:\", never_sports_reading_avg)"
   ]
  },
  {
   "cell_type": "markdown",
   "id": "8b999d7b",
   "metadata": {},
   "source": [
    "Проаналізуйте розподіл транспортних засобів до школи серед учнів.\n",
    "\n",
    "    14. Скільки учнів користується шкільним автобусом, щоб дістатися до школи?\n",
    "    15. Скільки учнів користується приватним транспортом, щоб дістатися до школи?"
   ]
  },
  {
   "cell_type": "code",
   "execution_count": 28,
   "id": "342f0ac6",
   "metadata": {},
   "outputs": [
    {
     "name": "stdout",
     "output_type": "stream",
     "text": [
      "Number of students who use the school bus to get to school: 16145\n",
      "Number of students who use private transport to get to school: 11362\n"
     ]
    }
   ],
   "source": [
    "bus_count = len(df[df[\"TransportMeans\"] == \"school_bus\"])\n",
    "private_count = len(df[df[\"TransportMeans\"] == \"private\"])\n",
    "\n",
    "print(\"Number of students who use the school bus to get to school:\", bus_count)\n",
    "print(\"Number of students who use private transport to get to school:\", private_count)"
   ]
  },
  {
   "cell_type": "markdown",
   "id": "d486b255",
   "metadata": {},
   "source": [
    "Задача класифікації 5 балів\n",
    "\n",
    "   Передбачте, чи завершив студент курс підготовки до іспиту, на основі його демографічних та академічних даних.\n",
    "   \n",
    "   Вхідні дані:\n",
    "   \n",
    "Gender, EthnicGroup, ParentEduc, LunchType, ParentMaritalStatus, PracticeSport, IsFirstChild, NrSiblings,       TransportMeans, WklyStudyHours, MathScore, ReadingScore, WritingScore\n",
    "\n",
    "   Результат: TestPrep"
   ]
  },
  {
   "cell_type": "code",
   "execution_count": 51,
   "id": "4ca3b3b4",
   "metadata": {},
   "outputs": [],
   "source": [
    "import pandas as pd\n",
    "from sklearn.model_selection import train_test_split\n",
    "from sklearn.preprocessing import OneHotEncoder, StandardScaler\n",
    "from sklearn.linear_model import LogisticRegression\n",
    "from sklearn.metrics import accuracy_score\n",
    "from sklearn.impute import SimpleImputer"
   ]
  },
  {
   "cell_type": "code",
   "execution_count": 52,
   "id": "8b9e2a85",
   "metadata": {},
   "outputs": [],
   "source": [
    "df = df.dropna()"
   ]
  },
  {
   "cell_type": "code",
   "execution_count": 53,
   "id": "bf3935c3",
   "metadata": {},
   "outputs": [],
   "source": [
    "X_train, X_test, y_train, y_test = train_test_split(df.drop(\"TestPrep\", axis=1), df[\"TestPrep\"], test_size=0.2, random_state=42)"
   ]
  },
  {
   "cell_type": "code",
   "execution_count": 54,
   "id": "3111562d",
   "metadata": {},
   "outputs": [],
   "source": [
    "ohe = OneHotEncoder(sparse=False)\n",
    "X_train_encoded = ohe.fit_transform(X_train.select_dtypes(include='object'))\n",
    "X_test_encoded = ohe.transform(X_test.select_dtypes(include='object'))"
   ]
  },
  {
   "cell_type": "code",
   "execution_count": 55,
   "id": "3b7d5bf1",
   "metadata": {},
   "outputs": [],
   "source": [
    "scaler = StandardScaler()\n",
    "X_train_numerical = X_train.select_dtypes(include=['float64', 'int64'])\n",
    "X_test_numerical = X_test.select_dtypes(include=['float64', 'int64'])\n",
    "\n",
    "X_train_scaled = pd.DataFrame(scaler.fit_transform(X_train_numerical), columns=X_train_numerical.columns)\n",
    "X_test_scaled = pd.DataFrame(scaler.transform(X_test_numerical), columns=X_test_numerical.columns)"
   ]
  },
  {
   "cell_type": "code",
   "execution_count": 56,
   "id": "7dd130a5",
   "metadata": {},
   "outputs": [],
   "source": [
    "imputer = SimpleImputer(strategy='mean')\n",
    "X_train_imputed = pd.DataFrame(imputer.fit_transform(X_train_scaled), columns=X_train_scaled.columns)\n",
    "X_test_imputed = pd.DataFrame(imputer.transform(X_test_scaled), columns=X_test_scaled.columns)"
   ]
  },
  {
   "cell_type": "code",
   "execution_count": 57,
   "id": "bd85e607",
   "metadata": {
    "scrolled": true
   },
   "outputs": [],
   "source": [
    "X_train_final = pd.concat([pd.DataFrame(X_train_encoded), X_train_imputed], axis=1)\n",
    "X_test_final = pd.concat([pd.DataFrame(X_test_encoded), X_test_imputed], axis=1)"
   ]
  },
  {
   "cell_type": "code",
   "execution_count": 59,
   "id": "e58fe19b",
   "metadata": {
    "scrolled": true
   },
   "outputs": [
    {
     "name": "stderr",
     "output_type": "stream",
     "text": [
      "C:\\Users\\VLADA\\anaconda3\\envs\\first\\lib\\site-packages\\sklearn\\utils\\validation.py:1692: FutureWarning: Feature names only support names that are all strings. Got feature names with dtypes: ['int', 'str']. An error will be raised in 1.2.\n",
      "  FutureWarning,\n"
     ]
    },
    {
     "data": {
      "text/plain": [
       "LogisticRegression()"
      ]
     },
     "execution_count": 59,
     "metadata": {},
     "output_type": "execute_result"
    }
   ],
   "source": [
    "clf = LogisticRegression()\n",
    "clf.fit(X_train_final, y_train)"
   ]
  },
  {
   "cell_type": "code",
   "execution_count": 60,
   "id": "1b7214a8",
   "metadata": {},
   "outputs": [
    {
     "name": "stdout",
     "output_type": "stream",
     "text": [
      "Accuracy: 0.7492855287087555\n"
     ]
    },
    {
     "name": "stderr",
     "output_type": "stream",
     "text": [
      "C:\\Users\\VLADA\\anaconda3\\envs\\first\\lib\\site-packages\\sklearn\\utils\\validation.py:1692: FutureWarning: Feature names only support names that are all strings. Got feature names with dtypes: ['int', 'str']. An error will be raised in 1.2.\n",
      "  FutureWarning,\n"
     ]
    }
   ],
   "source": [
    "\n",
    "y_pred = clf.predict(X_test_final)\n",
    "accuracy = accuracy_score(y_test, y_pred)\n",
    "print(\"Accuracy:\", accuracy)"
   ]
  },
  {
   "cell_type": "code",
   "execution_count": 107,
   "id": "9401264d",
   "metadata": {},
   "outputs": [
    {
     "name": "stdout",
     "output_type": "stream",
     "text": [
      "Prediction for new student: ['none']\n"
     ]
    },
    {
     "name": "stderr",
     "output_type": "stream",
     "text": [
      "C:\\Users\\VLADA\\anaconda3\\envs\\first\\lib\\site-packages\\sklearn\\utils\\validation.py:1692: FutureWarning: Feature names only support names that are all strings. Got feature names with dtypes: ['int', 'str']. An error will be raised in 1.2.\n",
      "  FutureWarning,\n"
     ]
    }
   ],
   "source": [
    "new_student_data = pd.DataFrame({\n",
    "    \"Gender\": [\"male\"],\n",
    "    \"EthnicGroup\": [\"group B\"],\n",
    "    \"ParentEduc\": [\"master's degree\"],\n",
    "    \"LunchType\": [\"standard\"],\n",
    "    \"ParentMaritalStatus\": [\"married\"],\n",
    "    \"PracticeSport\": [\"regularly\"],\n",
    "    \"IsFirstChild\": ['yes'],\n",
    "    \"NrSiblings\": [2],\n",
    "    \"TransportMeans\": [\"school_bus\"],\n",
    "    \"WklyStudyHours\": ['5 - 10'],\n",
    "    \"MathScore\": [80],\n",
    "    \"ReadingScore\": [85],\n",
    "    \"WritingScore\": [90],\n",
    "    \"Dummy\": [0] \n",
    "    \n",
    "})\n",
    "\n",
    "new_student_encoded = ohe.transform(new_student_data.select_dtypes(include='object'))\n",
    "new_student_final.columns = new_student_final.columns.astype(str)\n",
    "new_student_final = pd.concat([pd.DataFrame(new_student_encoded), new_student_data.select_dtypes(include=['float', 'int'])], axis=1)\n",
    "\n",
    "new_student_pred = clf.predict(new_student_final)\n",
    "print(\"Prediction for new student:\", new_student_pred)"
   ]
  },
  {
   "cell_type": "code",
   "execution_count": null,
   "id": "a288b404",
   "metadata": {},
   "outputs": [],
   "source": []
  }
 ],
 "metadata": {
  "kernelspec": {
   "display_name": "Python 3 (ipykernel)",
   "language": "python",
   "name": "python3"
  },
  "language_info": {
   "codemirror_mode": {
    "name": "ipython",
    "version": 3
   },
   "file_extension": ".py",
   "mimetype": "text/x-python",
   "name": "python",
   "nbconvert_exporter": "python",
   "pygments_lexer": "ipython3",
   "version": "3.7.16"
  }
 },
 "nbformat": 4,
 "nbformat_minor": 5
}
