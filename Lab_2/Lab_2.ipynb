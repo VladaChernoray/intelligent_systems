{
 "cells": [
  {
   "cell_type": "markdown",
   "id": "883f37bb",
   "metadata": {},
   "source": [
    "Завдання 1"
   ]
  },
  {
   "cell_type": "markdown",
   "id": "cf067df2",
   "metadata": {},
   "source": [
    "Вправа 1. Вводиться число n. Вивести масив розміру n×n, в якому по діагоналі йдуть числа від 1 до n, а інші числа дорівнюють 0."
   ]
  },
  {
   "cell_type": "code",
   "execution_count": 11,
   "id": "4024775f",
   "metadata": {},
   "outputs": [
    {
     "name": "stdout",
     "output_type": "stream",
     "text": [
      "[[1 0 0 0 0]\n",
      " [0 2 0 0 0]\n",
      " [0 0 3 0 0]\n",
      " [0 0 0 4 0]\n",
      " [0 0 0 0 5]]\n",
      "Execution time:  0:00:00.000997\n"
     ]
    }
   ],
   "source": [
    "# з використанням універсальних функцій бібліотеки NumPy\n",
    "import numpy as np\n",
    "import datetime\n",
    "\n",
    "start_time = datetime.datetime.now()\n",
    "\n",
    "def task_1(n):\n",
    "    arr = np.zeros((n, n), dtype=int) \n",
    "    np.fill_diagonal(arr, np.arange(1, n+1)) \n",
    "    print(arr)\n",
    "task_1(5)\n",
    "print('Execution time: ', datetime.datetime.now() - start_time)"
   ]
  },
  {
   "cell_type": "code",
   "execution_count": 1,
   "id": "8b7a93f9",
   "metadata": {},
   "outputs": [
    {
     "name": "stdout",
     "output_type": "stream",
     "text": [
      "[[1, 0, 0, 0, 0], [0, 2, 0, 0, 0], [0, 0, 3, 0, 0], [0, 0, 0, 4, 0], [0, 0, 0, 0, 5]]\n",
      "Execution time:  0:00:00.000997\n"
     ]
    }
   ],
   "source": [
    "# за допомогою ітеративних конструкцій (з використанням циклів, спискових включень тощо)\n",
    "import datetime\n",
    "\n",
    "start_time = datetime.datetime.now()\n",
    "\n",
    "def task_1(n):\n",
    "    arr = [[0 for i in range(n)] for j in range(n)] \n",
    "    for i in range(n):\n",
    "        arr[i][i] = i + 1 \n",
    "        if i < n-1:\n",
    "            arr[i+1][i] = 0 \n",
    "    print(arr)\n",
    "task_1(5)\n",
    "print('Execution time: ', datetime.datetime.now() - start_time)"
   ]
  },
  {
   "cell_type": "markdown",
   "id": "aac8dbea",
   "metadata": {},
   "source": [
    "Вправа 3. Вводяться 4 числа n, m, r, c. Вивести масив розміру\n",
    "n×m, в якому в кожному рядку з номером r і в кожному стовпчику з\n",
    "номером c стоять 0, а інші елементи дорівнюють 1."
   ]
  },
  {
   "cell_type": "code",
   "execution_count": 17,
   "id": "b5bd5f87",
   "metadata": {},
   "outputs": [
    {
     "name": "stdout",
     "output_type": "stream",
     "text": [
      "[[1 1 1 0 1 1 1]\n",
      " [1 1 1 0 1 1 1]\n",
      " [0 0 0 0 0 0 0]\n",
      " [1 1 1 0 1 1 1]\n",
      " [1 1 1 0 1 1 1]\n",
      " [1 1 1 0 1 1 1]]\n",
      "Execution time:  0:00:00.000997\n"
     ]
    }
   ],
   "source": [
    "# з використанням універсальних функцій бібліотеки NumPy\n",
    "import numpy as np\n",
    "import datetime\n",
    "\n",
    "start_time = datetime.datetime.now()\n",
    "\n",
    "def task_3(n, m, r, c):\n",
    "    arr = np.ones((n, m), dtype=int) \n",
    "    arr[r, :] = 0 \n",
    "    arr[:, c] = 0 \n",
    "    print(arr)\n",
    "\n",
    "task_3(6, 7, 2, 3)\n",
    "print('Execution time: ', datetime.datetime.now() - start_time)"
   ]
  },
  {
   "cell_type": "code",
   "execution_count": 49,
   "id": "d36ba791",
   "metadata": {},
   "outputs": [
    {
     "name": "stdout",
     "output_type": "stream",
     "text": [
      "[1 1 1 0 1 1 1 ],\n",
      "[1 1 1 0 1 1 1 ],\n",
      "[0 0 0 0 0 0 0 ],\n",
      "[1 1 1 0 1 1 1 ],\n",
      "[1 1 1 0 1 1 1 ],\n",
      "[1 1 1 0 1 1 1 ],\n",
      "Execution time:  0:00:00.001995\n"
     ]
    }
   ],
   "source": [
    "# за допомогою ітеративних конструкцій (з використанням циклів, спискових включень тощо)\n",
    "import numpy as np\n",
    "import datetime\n",
    "\n",
    "start_time = datetime.datetime.now()\n",
    "\n",
    "def task_3(n, m, r, c):\n",
    "\n",
    "    arr = [[1 for j in range(m)] for i in range(n)]\n",
    "    \n",
    "    for j in range(m):\n",
    "        arr[r][j] = 0\n",
    "        \n",
    "    for i in range(n):\n",
    "        arr[i][c] = 0\n",
    "        \n",
    "    for i in range(n):\n",
    "        print('[', end='')\n",
    "        for j in range(m):\n",
    "            print(str(arr[i][j]), end=' ')\n",
    "        print('],')\n",
    "    \n",
    "task_3(6, 7, 2, 3)\n",
    "print('Execution time: ', datetime.datetime.now() - start_time)"
   ]
  },
  {
   "cell_type": "markdown",
   "id": "1042e7e5",
   "metadata": {},
   "source": [
    "Вправа 4. Вводяться числа n і m. Вивести масив розміру n×m, в\n",
    "якому у першому рядку (рядок з нулевим індексом) йдуть числа від 0\n",
    "до m–1, а всі інші елементи матриці дорівнюють 0."
   ]
  },
  {
   "cell_type": "code",
   "execution_count": 18,
   "id": "af989ae8",
   "metadata": {},
   "outputs": [
    {
     "name": "stdout",
     "output_type": "stream",
     "text": [
      "[[0 1 2 3]\n",
      " [0 0 0 0]\n",
      " [0 0 0 0]]\n",
      "Execution time:  0:00:00.000997\n"
     ]
    }
   ],
   "source": [
    "# з використанням універсальних функцій бібліотеки NumPy\n",
    "import numpy as np\n",
    "import datetime\n",
    "\n",
    "start_time = datetime.datetime.now()\n",
    "\n",
    "def task_4(n, m):\n",
    "    matrix = np.zeros((n, m), dtype=int) \n",
    "    matrix[0, :] = np.arange(m)  \n",
    "    print(matrix)\n",
    "\n",
    "task_4(3, 4)\n",
    "print('Execution time: ', datetime.datetime.now() - start_time)"
   ]
  },
  {
   "cell_type": "code",
   "execution_count": 19,
   "id": "1401ee62",
   "metadata": {},
   "outputs": [
    {
     "name": "stdout",
     "output_type": "stream",
     "text": [
      "[0, 1, 2, 3]\n",
      "[0, 0, 0, 0]\n",
      "[0, 0, 0, 0]\n",
      "Execution time:  0:00:00.000998\n"
     ]
    }
   ],
   "source": [
    "# за допомогою ітеративних конструкцій (з використанням циклів, спискових включень тощо)\n",
    "import datetime\n",
    "\n",
    "start_time = datetime.datetime.now()\n",
    "\n",
    "def task_4(n, m):\n",
    "\n",
    "    matrix = []\n",
    "    \n",
    "    for i in range(n):\n",
    "        row = []\n",
    "        for j in range(m):\n",
    "            if i == 0:\n",
    "                row.append(j)\n",
    "            else:\n",
    "                row.append(0)\n",
    "        matrix.append(row)\n",
    "        \n",
    "    for i in range(n):\n",
    "        print(matrix[i])\n",
    "\n",
    "task_4(3, 4)\n",
    "print('Execution time: ', datetime.datetime.now() - start_time)"
   ]
  },
  {
   "cell_type": "markdown",
   "id": "c4d6785a",
   "metadata": {},
   "source": [
    "Вправа 5. Вводиться число n. Вивести масив розміру n×n, в\n",
    "якому в рядках з парними індексами стоять 1, а в інших – 0."
   ]
  },
  {
   "cell_type": "code",
   "execution_count": 22,
   "id": "5cb70bca",
   "metadata": {},
   "outputs": [
    {
     "name": "stdout",
     "output_type": "stream",
     "text": [
      "[[1 1 1 1 1]\n",
      " [0 0 0 0 0]\n",
      " [1 1 1 1 1]\n",
      " [0 0 0 0 0]\n",
      " [1 1 1 1 1]]\n",
      "Execution time:  0:00:00.000996\n"
     ]
    }
   ],
   "source": [
    "# з використанням універсальних функцій бібліотеки NumPy\n",
    "import numpy as np\n",
    "import datetime\n",
    "\n",
    "start_time = datetime.datetime.now()\n",
    "def task_5(n):\n",
    "    result_array = np.zeros((n, n))\n",
    "    result_array[::2] = 1\n",
    "\n",
    "    print(result_array.astype(int))\n",
    "task_5(5)\n",
    "print('Execution time: ', datetime.datetime.now() - start_time)"
   ]
  },
  {
   "cell_type": "code",
   "execution_count": 23,
   "id": "7ecc9433",
   "metadata": {},
   "outputs": [
    {
     "name": "stdout",
     "output_type": "stream",
     "text": [
      "[[1, 1, 1, 1, 1], [0, 0, 0, 0, 0], [1, 1, 1, 1, 1], [0, 0, 0, 0, 0], [1, 1, 1, 1, 1]]\n",
      "Execution time:  0:00:00.000997\n"
     ]
    }
   ],
   "source": [
    "# за допомогою ітеративних конструкцій (з використанням циклів, спискових включень тощо)\n",
    "import datetime\n",
    "\n",
    "start_time = datetime.datetime.now()\n",
    "\n",
    "def task_5(n):\n",
    "    result_array = [[0 for j in range(n)] for i in range(n)]\n",
    "    for i in range(n):\n",
    "        if i % 2 == 0:\n",
    "            for j in range(n):\n",
    "                result_array[i][j] = 1\n",
    "    print(result_array)\n",
    "task_5(5)\n",
    "print('Execution time: ', datetime.datetime.now() - start_time)"
   ]
  },
  {
   "cell_type": "markdown",
   "id": "6bc65701",
   "metadata": {},
   "source": [
    "Вправа 10. Вводиться числа n i m. Створити масив випадкових\n",
    "значень n×m і обчислити мінімальне, максимальне значення, середнє та\n",
    "середньо квадратичне відхилення, округлене до 3 знаків після коми."
   ]
  },
  {
   "cell_type": "code",
   "execution_count": 24,
   "id": "8ed211e6",
   "metadata": {},
   "outputs": [
    {
     "name": "stdout",
     "output_type": "stream",
     "text": [
      "Мінімум: 0.019\n",
      "Максимум: 0.994\n",
      "Середнє: 0.469\n",
      "Дисперсія: 0.337\n",
      "Execution time:  0:00:00.001995\n"
     ]
    }
   ],
   "source": [
    "# з використанням універсальних функцій бібліотеки NumPy\n",
    "import numpy as np\n",
    "import datetime\n",
    "\n",
    "start_time = datetime.datetime.now()\n",
    "\n",
    "def task_10(n, m):\n",
    "    arr = np.random.random((n, m))\n",
    "\n",
    "    arr_min = np.min(arr)\n",
    "    arr_max = np.max(arr)\n",
    "    arr_mean = np.mean(arr)\n",
    "    arr_std = np.std(arr)\n",
    "    \n",
    "    arr_min = round(arr_min, 3)\n",
    "    arr_max = round(arr_max, 3)\n",
    "    arr_mean = round(arr_mean, 3)\n",
    "    arr_std = round(arr_std, 3)\n",
    "    \n",
    "    print(\"Мінімум:\", arr_min)\n",
    "    print(\"Максимум:\", arr_max)\n",
    "    print(\"Середнє:\", arr_mean)\n",
    "    print(\"Дисперсія:\", arr_std)\n",
    "\n",
    "task_10(4, 5)\n",
    "print('Execution time: ', datetime.datetime.now() - start_time)"
   ]
  },
  {
   "cell_type": "code",
   "execution_count": 27,
   "id": "5a15670f",
   "metadata": {},
   "outputs": [
    {
     "name": "stdout",
     "output_type": "stream",
     "text": [
      "Мінімум: 0.007\n",
      "Максимум: 0.892\n",
      "Середнє: 0.413\n",
      "Дисперсія: 0.284\n",
      "Execution time:  0:00:00.000998\n"
     ]
    }
   ],
   "source": [
    "# за допомогою ітеративних конструкцій (з використанням циклів, спискових включень тощо)\n",
    "import random\n",
    "import datetime\n",
    "\n",
    "start_time = datetime.datetime.now()\n",
    "\n",
    "def task_10(n, m):\n",
    "    arr = [[random.random() for j in range(m)] for i in range(n)]\n",
    "    \n",
    "    arr_min = float('inf')\n",
    "    arr_max = float('-inf')\n",
    "    arr_sum = 0\n",
    "    arr_sum_squared = 0\n",
    "    count = 0\n",
    "    \n",
    "    for i in range(n):\n",
    "        for j in range(m):\n",
    "            value = arr[i][j]\n",
    "            arr_min = min(arr_min, value)\n",
    "            arr_max = max(arr_max, value)\n",
    "            arr_sum += value\n",
    "            arr_sum_squared += value ** 2\n",
    "            count += 1\n",
    "            \n",
    "    arr_mean = arr_sum / count\n",
    "    arr_std = ((arr_sum_squared / count) - (arr_mean ** 2)) ** 0.5\n",
    "    \n",
    "    arr_min = round(arr_min, 3)\n",
    "    arr_max = round(arr_max, 3)\n",
    "    arr_mean = round(arr_mean, 3)\n",
    "    arr_std = round(arr_std, 3)\n",
    "\n",
    "    print(\"Мінімум:\", arr_min)\n",
    "    print(\"Максимум:\", arr_max)\n",
    "    print(\"Середнє:\", arr_mean)\n",
    "    print(\"Дисперсія:\", arr_std)\n",
    "\n",
    "task_10(4, 5) \n",
    "print('Execution time: ', datetime.datetime.now() - start_time)"
   ]
  },
  {
   "cell_type": "markdown",
   "id": "44950331",
   "metadata": {},
   "source": [
    "Вправа 12. Створити масив одиниць розміром n×n та створити в\n",
    "ньому «рамку», що утворюється з 0."
   ]
  },
  {
   "cell_type": "code",
   "execution_count": 39,
   "id": "4dca3f75",
   "metadata": {},
   "outputs": [
    {
     "name": "stdout",
     "output_type": "stream",
     "text": [
      "[[0 0 0 0]\n",
      " [0 1 1 0]\n",
      " [0 1 1 0]\n",
      " [0 0 0 0]]\n",
      "Execution time:  0:00:00.000998\n"
     ]
    }
   ],
   "source": [
    "# з використанням універсальних функцій бібліотеки NumPy\n",
    "import numpy as np\n",
    "import datetime\n",
    "\n",
    "start_time = datetime.datetime.now()\n",
    "\n",
    "def task_12(n):\n",
    "    arr = np.ones((n, n))\n",
    "    \n",
    "    arr[0,:] = 0\n",
    "    arr[n-1,:] = 0\n",
    "    arr[:,0] = 0\n",
    "    arr[:,n-1] = 0\n",
    "    \n",
    "    print(arr.astype(int))\n",
    "\n",
    "task_12(4)\n",
    "print('Execution time: ', datetime.datetime.now() - start_time)"
   ]
  },
  {
   "cell_type": "code",
   "execution_count": 31,
   "id": "f4bc5792",
   "metadata": {},
   "outputs": [
    {
     "name": "stdout",
     "output_type": "stream",
     "text": [
      "[[0, 0, 0, 0], [0, 1, 1, 0], [0, 1, 1, 0], [0, 0, 0, 0]]\n",
      "Execution time:  0:00:00.000986\n"
     ]
    }
   ],
   "source": [
    "# за допомогою ітеративних конструкцій (з використанням циклів, спискових включень тощо)\n",
    "import datetime\n",
    "\n",
    "start_time = datetime.datetime.now()\n",
    "\n",
    "def task_12(n):\n",
    "\n",
    "    arr = [[1 for j in range(n)] for i in range(n)]\n",
    "    \n",
    "    for i in range(n):\n",
    "        for j in range(n):\n",
    "            if i == 0 or i == n-1 or j == 0 or j == n-1:\n",
    "                arr[i][j] = 0\n",
    "                \n",
    "    print(arr)\n",
    "\n",
    "task_12(4)\n",
    "print('Execution time: ', datetime.datetime.now() - start_time)"
   ]
  },
  {
   "cell_type": "markdown",
   "id": "fc78011c",
   "metadata": {},
   "source": [
    "Вправа 16. Заповнити вектор значеннями від 0 до n. Всі значення,\n",
    "що більші за n/4 та менші за 3n/4 замінити нулями."
   ]
  },
  {
   "cell_type": "code",
   "execution_count": 32,
   "id": "7b561f76",
   "metadata": {},
   "outputs": [
    {
     "name": "stdout",
     "output_type": "stream",
     "text": [
      "[ 0  1  2  0  0  0  0  0  8  9 10]\n",
      "Execution time:  0:00:00.000998\n"
     ]
    }
   ],
   "source": [
    "# з використанням універсальних функцій бібліотеки NumPy\n",
    "import numpy as np\n",
    "import datetime\n",
    "\n",
    "start_time = datetime.datetime.now()\n",
    "\n",
    "def task_16(n):\n",
    "    \n",
    "    vec = np.arange(n + 1)\n",
    "    vec[(vec > n/4) & (vec < 3*n/4)] = 0\n",
    "    \n",
    "    print(vec)\n",
    "\n",
    "task_16(10)\n",
    "print('Execution time: ', datetime.datetime.now() - start_time)"
   ]
  },
  {
   "cell_type": "code",
   "execution_count": 36,
   "id": "32cae64a",
   "metadata": {},
   "outputs": [
    {
     "name": "stdout",
     "output_type": "stream",
     "text": [
      "0\n",
      "1\n",
      "2\n",
      "0\n",
      "0\n",
      "0\n",
      "0\n",
      "0\n",
      "8\n",
      "9\n",
      "10\n",
      "Execution time:  0:00:00.000994\n"
     ]
    }
   ],
   "source": [
    "# за допомогою ітеративних конструкцій (з використанням циклів, спискових включень тощо)\n",
    "import datetime\n",
    "\n",
    "start_time = datetime.datetime.now()\n",
    "def task_16(n):\n",
    "    \n",
    "    vec = []\n",
    "    \n",
    "    for i in range(n + 1):\n",
    "        vec.append(i)\n",
    "    \n",
    "    for i in range(n + 1):\n",
    "        if (vec[i] > n/4) and (vec[i] < 3*n/4):\n",
    "            vec[i] = 0\n",
    "    \n",
    "    for i in range(n + 1):\n",
    "        print(vec[i])\n",
    "        \n",
    "task_16(10)\n",
    "print('Execution time: ', datetime.datetime.now() - start_time)"
   ]
  },
  {
   "cell_type": "markdown",
   "id": "e076d59a",
   "metadata": {},
   "source": [
    "Вправа 17. Заповнити вектор значеннями від 0 до n. Замінити\n",
    "знаки для всіх значень, що менші за n/2 та більші за 3n/4 на\n",
    "протилежні."
   ]
  },
  {
   "cell_type": "code",
   "execution_count": 37,
   "id": "11a62858",
   "metadata": {},
   "outputs": [
    {
     "name": "stdout",
     "output_type": "stream",
     "text": [
      "[  0  -1  -2  -3  -4   5   6   7  -8  -9 -10]\n",
      "Execution time:  0:00:00.000995\n"
     ]
    }
   ],
   "source": [
    "# з використанням універсальних функцій бібліотеки NumPy\n",
    "import datetime\n",
    "\n",
    "start_time = datetime.datetime.now()\n",
    "import numpy as np\n",
    "\n",
    "def task_17(n):\n",
    "    \n",
    "    vec = np.arange(n + 1)\n",
    "    vec[(vec < n/2) | (vec > 3*n/4)] *= -1\n",
    "    \n",
    "    print(vec)\n",
    "task_17(10)\n",
    "print('Execution time: ', datetime.datetime.now() - start_time)"
   ]
  },
  {
   "cell_type": "code",
   "execution_count": 38,
   "id": "d315d846",
   "metadata": {},
   "outputs": [
    {
     "name": "stdout",
     "output_type": "stream",
     "text": [
      "0\n",
      "-1\n",
      "-2\n",
      "-3\n",
      "-4\n",
      "5\n",
      "6\n",
      "7\n",
      "-8\n",
      "-9\n",
      "-10\n",
      "Execution time:  0:00:00.000953\n"
     ]
    }
   ],
   "source": [
    "# за допомогою ітеративних конструкцій (з використанням циклів, спискових включень тощо)\n",
    "import datetime\n",
    "\n",
    "start_time = datetime.datetime.now()\n",
    "def task_17(n):\n",
    "    vec = []\n",
    "\n",
    "    for i in range(n + 1):\n",
    "        vec.append(i)\n",
    "\n",
    "    for i in range(n + 1):\n",
    "        if vec[i] < n/2 or vec[i] > 3*n/4:\n",
    "            vec[i] *= -1\n",
    "\n",
    "    for i in range(n + 1):\n",
    "        print(vec[i])\n",
    "task_17(10)\n",
    "print('Execution time: ', datetime.datetime.now() - start_time)"
   ]
  },
  {
   "cell_type": "markdown",
   "id": "c48d5f7b",
   "metadata": {},
   "source": [
    "Вправа 21. Ввести числа n і m. Згенерувати матрицю n×n\n",
    "випадкових цілих елементів з діапазону [0, m]. Замінити всі\n",
    "максимальні елементи цієї матриці на протилежні за знаком."
   ]
  },
  {
   "cell_type": "code",
   "execution_count": 16,
   "id": "68318aa0",
   "metadata": {},
   "outputs": [
    {
     "name": "stdout",
     "output_type": "stream",
     "text": [
      "Початковий вектор: \n",
      "[[ 2 10  0  3]\n",
      " [ 2  3  7  9]\n",
      " [ 5  6  4  2]\n",
      " [ 7  9  7  1]]\n",
      "Змінений вектор: \n",
      "[[  2 -10   0   3]\n",
      " [  2   3   7   9]\n",
      " [  5   6   4   2]\n",
      " [  7   9   7   1]]\n"
     ]
    }
   ],
   "source": [
    "# з використанням універсальних функцій бібліотеки NumPy\n",
    "import numpy as np\n",
    "\n",
    "def task_21(n, m):\n",
    "    matrix = np.random.randint(0, m+1, size=(n, n))\n",
    "    \n",
    "    print(\"Початковий вектор: \")\n",
    "    print(matrix)\n",
    "    \n",
    "    max_index = np.unravel_index(np.argmax(matrix), matrix.shape)\n",
    "    matrix[max_index] = -matrix[max_index]\n",
    "    \n",
    "    print(\"Змінений вектор: \")\n",
    "    print(matrix)\n",
    "\n",
    "task_21(4, 10)"
   ]
  },
  {
   "cell_type": "code",
   "execution_count": 17,
   "id": "5424ad60",
   "metadata": {},
   "outputs": [
    {
     "name": "stdout",
     "output_type": "stream",
     "text": [
      "Початковий вектор: \n",
      "2 4 5 3 \n",
      "10 4 8 9 \n",
      "2 0 1 1 \n",
      "10 9 7 6 \n",
      "Змінений вектор: \n",
      "2 4 5 3 \n",
      "-10 4 8 9 \n",
      "2 0 1 1 \n",
      "-10 9 7 6 \n"
     ]
    }
   ],
   "source": [
    "# за допомогою ітеративних конструкцій (з використанням циклів, спискових включень тощо)\n",
    "import random\n",
    "\n",
    "def task_21(n, m):\n",
    "    matrix = []\n",
    "    \n",
    "    for i in range(n):\n",
    "        row = []\n",
    "        for j in range(n):\n",
    "            row.append(random.randint(0, m))\n",
    "        matrix.append(row)\n",
    "        \n",
    "    print(\"Початковий вектор: \")\n",
    "    for i in range(n):\n",
    "        for j in range(n):\n",
    "            print(matrix[i][j], end=\" \")\n",
    "        print()\n",
    "            \n",
    "    max_element = matrix[0][0]\n",
    "    for i in range(n):\n",
    "        for j in range(n):\n",
    "            if matrix[i][j] > max_element:\n",
    "                max_element = matrix[i][j]\n",
    "                    \n",
    "    for i in range(n):\n",
    "        for j in range(n):\n",
    "            if matrix[i][j] == max_element:\n",
    "                matrix[i][j] = -matrix[i][j]\n",
    "\n",
    "    print(\"Змінений вектор: \")\n",
    "    for i in range(n):\n",
    "        for j in range(n):\n",
    "            print(matrix[i][j], end=\" \")\n",
    "        print()\n",
    "        \n",
    "task_21(4, 10)"
   ]
  },
  {
   "cell_type": "markdown",
   "id": "9cbd02c2",
   "metadata": {},
   "source": [
    "Завдання 2\n",
    "\n",
    "Розв’язати систему алгебраїчних рівнянь за допомогою\n",
    "формул Крамера і виконати перевірку.\n",
    "\\begin{cases}\n",
    "2 x_1 - x_2 + 3 x_3 + 2 x_4 = 4 \\\\\n",
    "3 x_1 + 3 x_2 + 3 x_3 + 2 x_4 = 6 \\\\\n",
    "3 x_1 - x_2 - x_3 + 2 x_4 = 6 \\\\\n",
    "3 x_1 - x_2 + 3 x_3 - x_4 = 6 \\\\\n",
    "\\end{cases}"
   ]
  },
  {
   "cell_type": "code",
   "execution_count": 40,
   "id": "3509f429",
   "metadata": {
    "scrolled": true
   },
   "outputs": [
    {
     "name": "stdout",
     "output_type": "stream",
     "text": [
      "x1 = 2.0\n",
      "x2 = 0.0\n",
      "x3 = 0.0\n",
      "x4 = 0.0\n",
      "Сheck for correctness of the solution using matrix multiplication:  True\n",
      "Check the correctness of the solution using the inverse matrix:  True\n",
      "Check the correctness of the solution using numpy.linalg.solve():  True\n"
     ]
    }
   ],
   "source": [
    "import numpy as np\n",
    "\n",
    "rtol = 1e-05\n",
    "atol = 1e-08\n",
    "\n",
    "A = np.array([[2, -1, 3, 2], [3, 3, 3, 2], [3, -1, -1, 2], [3, -1, 3, -1]])\n",
    "\n",
    "B = np.array([4, 6, 6, 6])\n",
    "\n",
    "det_A = np.linalg.det(A)\n",
    "\n",
    "det_x1 = np.linalg.det(np.column_stack((B, A[:, 1:],)))\n",
    "det_x2 = np.linalg.det(np.column_stack((A[:, 0], B, A[:, 2:],)))\n",
    "det_x3 = np.linalg.det(np.column_stack((A[:, :2], B, A[:, 3:],)))\n",
    "det_x4 = np.linalg.det(np.column_stack((A[:, :3], B)))\n",
    "\n",
    "x1 = det_x1 / det_A\n",
    "x2 = det_x2 / det_A\n",
    "x3 = det_x3 / det_A\n",
    "x4 = det_x4 / det_A\n",
    "\n",
    "print(\"x1 =\", x1.round(2))\n",
    "print(\"x2 =\", x2.round(2))\n",
    "print(\"x3 =\", x3.round(2))\n",
    "print(\"x4 =\", x4.round(2))\n",
    "\n",
    "x = np.array([x1, x2, x3, x4]).reshape((-1, 1))\n",
    "\n",
    "def checkWithMatrixMultiplication(A, B, x):    \n",
    "    Ax = np.dot(A, x).flatten().astype(int)\n",
    "\n",
    "    res = np.allclose(Ax, B, rtol, atol)\n",
    "    print (\"Сheck for correctness of the solution using matrix multiplication: \", res)\n",
    "    \n",
    "    \n",
    "def checkWithInverseMatrix(A, B, x):\n",
    "    x = np.array([x1, x2, x3, x4]).reshape((-1, 1)).flatten().astype(int)\n",
    "    A_inv = np.linalg.inv(A)\n",
    "    temp_x = np.dot(A_inv, B).astype(int)\n",
    "    \n",
    "    res = np.allclose(temp_x, x.flatten().astype(int), rtol, atol)\n",
    "    print (\"Check the correctness of the solution using the inverse matrix: \", res)\n",
    "\n",
    "def checkWithNumPy(A, B, x):\n",
    "    temp_x = np.linalg.solve(A, B).astype(int)\n",
    "    \n",
    "    res = np.allclose(temp_x, x.flatten().astype(int), rtol, atol)\n",
    "    print (\"Check the correctness of the solution using numpy.linalg.solve(): \", res)\n",
    "    \n",
    "    \n",
    "checkWithMatrixMultiplication(A, B, x)\n",
    "checkWithInverseMatrix(A, B, x)\n",
    "checkWithNumPy(A, B, x)"
   ]
  },
  {
   "cell_type": "markdown",
   "id": "f9e2eac5",
   "metadata": {},
   "source": [
    "Завдання 3\n",
    "\n",
    "Обчислити значення матричного виразу\n",
    "\n",
    "\\begin{equation*} \n",
    "(A - B)A - 3B\n",
    "\\end{equation*}\n",
    "\n",
    "\\begin{equation*} \n",
    "A = \\begin{pmatrix}\n",
    "3 & 2 & -5 \\\\\n",
    "4 & 2 & 0 \\\\\n",
    "1 & 1 & 2\n",
    "\\end{pmatrix},\n",
    "B = \\begin{pmatrix}\n",
    "-1 & 2 & 4 \\\\\n",
    "0 & 3 & 2 \\\\\n",
    "-1 & -3 & 4\n",
    "\\end{pmatrix}\n",
    "\\end{equation*}\n"
   ]
  },
  {
   "cell_type": "code",
   "execution_count": 8,
   "id": "a1531ea7",
   "metadata": {},
   "outputs": [
    {
     "name": "stdout",
     "output_type": "stream",
     "text": [
      "[[  0   5 -26]\n",
      " [  6  13 -18]\n",
      " [ 17   1  -2]]\n",
      "Execution time:  0:00:00.000996\n"
     ]
    }
   ],
   "source": [
    "# з використанням універсальних функцій бібліотеки NumPy\n",
    "import numpy as np\n",
    "import datetime\n",
    "\n",
    "start_time = datetime.datetime.now()\n",
    "def valueOfTheMatrixExpression(A, B):\n",
    "    result = np.dot(A - B, A) + 3 * B\n",
    "    print(result)\n",
    "    \n",
    "A = np.array([[3, 2, -5], [4, 2, 0], [1, 1, 2]])\n",
    "B = np.array([[-1, 2, 4], [0, 3, 2], [-1, -3, 4]])\n",
    "\n",
    "valueOfTheMatrixExpression(A, B)\n",
    "print('Execution time: ', datetime.datetime.now() - start_time)"
   ]
  },
  {
   "cell_type": "code",
   "execution_count": 9,
   "id": "47c81b8e",
   "metadata": {},
   "outputs": [
    {
     "name": "stdout",
     "output_type": "stream",
     "text": [
      "[[0, 5, -26], [6, 13, -18], [17, 1, -2]]\n",
      "Execution time:  0:00:00.001011\n"
     ]
    }
   ],
   "source": [
    "# за допомогою ітеративних конструкцій (з використанням циклів, спискових включень тощо)\n",
    "import datetime\n",
    "\n",
    "start_time = datetime.datetime.now()\n",
    "def valueOfTheMatrixExpression(A, B):\n",
    "    \n",
    "    C = [[0 for _ in range(len(A))] for _ in range(len(A))]\n",
    "    for i in range(len(A)):\n",
    "        for j in range(len(A)):\n",
    "            C[i][j] = A[i][j] - B[i][j]\n",
    "            \n",
    "    D = [[0 for _ in range(len(A))] for _ in range(len(A))]\n",
    "    for i in range(len(C)):\n",
    "        for j in range(len(A[0])):\n",
    "            for k in range(len(A)):\n",
    "                D[i][j] += C[i][k] * A[k][j]\n",
    "                \n",
    "    E = [[0 for _ in range(len(B))] for _ in range(len(B))]\n",
    "    for i in range(len(B)):\n",
    "        for j in range(len(B[0])):\n",
    "            E[i][j] = 3 * B[i][j]\n",
    "            \n",
    "    result = [[0 for _ in range(len(D))] for _ in range(len(D))]\n",
    "    for i in range(len(D)):\n",
    "        for j in range(len(D[0])):\n",
    "            result[i][j] = D[i][j] + E[i][j]\n",
    "            \n",
    "    print(result)\n",
    "\n",
    "\n",
    "A = np.array([[3, 2, -5], [4, 2, 0], [1, 1, 2]])\n",
    "B = np.array([[-1, 2, 4], [0, 3, 2], [-1, -3, 4]])\n",
    "\n",
    "valueOfTheMatrixExpression(A, B)\n",
    "print('Execution time: ', datetime.datetime.now() - start_time)"
   ]
  }
 ],
 "metadata": {
  "kernelspec": {
   "display_name": "Python 3 (ipykernel)",
   "language": "python",
   "name": "python3"
  },
  "language_info": {
   "codemirror_mode": {
    "name": "ipython",
    "version": 3
   },
   "file_extension": ".py",
   "mimetype": "text/x-python",
   "name": "python",
   "nbconvert_exporter": "python",
   "pygments_lexer": "ipython3",
   "version": "3.7.16"
  }
 },
 "nbformat": 4,
 "nbformat_minor": 5
}
